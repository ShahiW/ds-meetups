{
    "cells": [
        {
            "cell_type": "markdown",
            "metadata": {},
            "source": [
                "To open this notebook in Google Colab and start coding, click on the Colab icon below.\n",
                "\n",
                "<table style=\"border:2px solid orange\" align=\"left\">\n",
                "  <td style=\"border:2px solid orange \">\n",
                "    <a target=\"_blank\" href=\"https://colab.research.google.com/github/neuefische/ds-meetups/blob/main/01_Python_Workshop_Revisiting_Some_Fundamentals/Copying_Exercises.ipynb\"><img src=\"https://www.tensorflow.org/images/colab_logo_32px.png\" />Run in Google Colab</a>\n",
                "  </td>\n",
                " </table>"
            ]
        },
        {
            "cell_type": "markdown",
            "metadata": {},
            "source": [
                "# Copying Exercises\n",
                "\n",
                "The first notebook about copying in Python was just a \"follow-along\". You learnt the three ways of copying in Python:\n",
                "- how to copy immutalbe objects \n",
                "- how to create shallow copies of mutable objects\n",
                "- how to create deep copies of mutable objects.\n",
                "\n",
                "All of this was covered mainly with the python objects \"lists\". \n",
                "To get the intuition, let's try these concepts also on some other objects.\n",
                "\n",
                "Our example will still be an aquarium. But this time in some other forms...\n"
            ]
        },
        {
            "cell_type": "code",
            "execution_count": 1,
            "metadata": {},
            "outputs": [],
            "source": [
                "# some imports\n",
                "import copy\n",
                "import numpy as np\n",
                "import pandas as pd\n"
            ]
        },
        {
            "cell_type": "markdown",
            "metadata": {},
            "source": [
                "## Exercise 1: Can you copy dictionaries with the `=` operator?\n",
                "\n",
                "Let's have the content of the aquarium in a dictionary... with a bit of a new order."
            ]
        },
        {
            "cell_type": "code",
            "execution_count": 2,
            "metadata": {},
            "outputs": [],
            "source": [
                "aquarium_dict = {\n",
                "    'fishes': ['big fish', 'small fish', 'second big fish'],\n",
                "    'plants': None,\n",
                "    'black box': 1\n",
                "}"
            ]
        },
        {
            "cell_type": "markdown",
            "metadata": {},
            "source": [
                "So what happens when you copy this dictionary with the `=` operator?\n",
                "\n",
                "1. check the id of `aquarium_dict` and your created copy!\n",
                "    --> will it be the same?\n",
                "\n",
                "Use code to confirm your opinion."
            ]
        },
        {
            "cell_type": "code",
            "execution_count": 3,
            "metadata": {},
            "outputs": [
                {
                    "data": {
                        "text/plain": [
                            "True"
                        ]
                    },
                    "execution_count": 3,
                    "metadata": {},
                    "output_type": "execute_result"
                }
            ],
            "source": [
                "my_aquarium_dict = aquarium_dict\n",
                "\n",
                "id(aquarium_dict) == id(my_aquarium_dict)  # True\n",
                "# Both variables reference the same object at ID 4350994560."
            ]
        },
        {
            "cell_type": "markdown",
            "metadata": {},
            "source": [
                "<details><summary>\n",
                "Click here for the solution.\n",
                "    </summary>\n",
                "    1. id will be the same! \"=\" operator will not create a new object but will create a new variable that will refer to the original object. Everything that will be changed in \"aquarium_dict\" will be visible in the new variable as well\n",
                "\n",
                "    Python code:\n",
                "    aquarium_dict_copy = aquarium_dict\n",
                "\n",
                "    id(aquarium_dict_copy) == id(aquarium_dict)\n",
                "    \n",
                "</details>"
            ]
        },
        {
            "cell_type": "markdown",
            "metadata": {},
            "source": [
                "2. what will happen to `aquarium_dict` if you change the entry of `blackbox` in your copy to `\"Party!!!\"`? "
            ]
        },
        {
            "cell_type": "code",
            "execution_count": 4,
            "metadata": {},
            "outputs": [
                {
                    "name": "stdout",
                    "output_type": "stream",
                    "text": [
                        "{'fishes': ['big fish', 'small fish', 'second big fish'], 'plants': None, 'black box': 1, 'blackbox': 'Party!!!'}\n",
                        "{'fishes': ['big fish', 'small fish', 'second big fish'], 'plants': None, 'black box': 1, 'blackbox': 'Party!!!'}\n"
                    ]
                }
            ],
            "source": [
                "my_aquarium_dict['blackbox'] = 'Party!!!'\n",
                "print(my_aquarium_dict)\n",
                "print(aquarium_dict)\n",
                "\n",
                "# Value of Key 'blackbox' changed in both dicts. "
            ]
        },
        {
            "cell_type": "markdown",
            "metadata": {},
            "source": [
                "<details><summary>\n",
                "Click here for the solution.\n",
                "    </summary>\n",
                "    2. \"blackbox\" will be changed to \"Party!!!\" as well.\n",
                "\n",
                "    Python code:\n",
                "    aquarium_dict_copy['black box'] = \"Party!!!\"\n",
                "\n",
                "    print(aquarium_dict_copy)\n",
                "    print(aquarium_dict)\n",
                "    \n",
                "</details>"
            ]
        },
        {
            "cell_type": "markdown",
            "metadata": {},
            "source": [
                "3. what will happen to `aquarium_dict_copy` if you append the `\"Rainbow fish\"` to the list of fishes in the original `aquarium_dict`?"
            ]
        },
        {
            "cell_type": "code",
            "execution_count": 5,
            "metadata": {},
            "outputs": [
                {
                    "name": "stdout",
                    "output_type": "stream",
                    "text": [
                        "{'fishes': ['big fish', 'small fish', 'second big fish', 'Rainbow fish'], 'plants': None, 'black box': 1, 'blackbox': 'Party!!!'}\n"
                    ]
                }
            ],
            "source": [
                "my_aquarium_dict['fishes'].append('Rainbow fish')\n",
                "print(my_aquarium_dict)"
            ]
        },
        {
            "cell_type": "markdown",
            "metadata": {},
            "source": [
                "<details><summary>\n",
                "Click here for the solution.\n",
                "    </summary>\n",
                "    3. \"Rainbow fish\" will added to fishes list for the copy as well.\n",
                "\n",
                "    Python code:\n",
                "    aquarium_dict['fishes'].append('Rainbow fish')\n",
                "\n",
                "    print(aquarium_dict_copy)\n",
                "    print(aquarium_dict)\n",
                "    \n",
                "</details>\n"
            ]
        },
        {
            "cell_type": "markdown",
            "metadata": {},
            "source": [
                "## Exercise 2: Can you copy dictionaries as shallow copies?\n",
                "\n",
                "We will start again with our typical aquarium_dict.\n",
                "Try out some different ways to create a shallow copy of it."
            ]
        },
        {
            "cell_type": "code",
            "execution_count": 6,
            "metadata": {},
            "outputs": [],
            "source": [
                "aquarium_dict = {\n",
                "    'fishes': ['big fish', 'small fish', 'second big fish'],\n",
                "    'plants': None,\n",
                "    'black box': 1\n",
                "}"
            ]
        },
        {
            "cell_type": "code",
            "execution_count": 7,
            "metadata": {},
            "outputs": [
                {
                    "name": "stdout",
                    "output_type": "stream",
                    "text": [
                        "{'fishes': ['big fish', 'small fish', 'second big fish'], 'plants': None, 'black box': 1}\n",
                        "{'fishes': ['big fish', 'small fish', 'second big fish'], 'plants': None, 'black box': 1}\n",
                        "{'fishes': ['big fish', 'small fish', 'second big fish'], 'plants': None, 'black box': 1}\n"
                    ]
                }
            ],
            "source": [
                "# Real copy 1:\n",
                "aquarium_dict_1 = dict(aquarium_dict)\n",
                "print(aquarium_dict_1)\n",
                "\n",
                "# Real copy 2:\n",
                "aquarium_dict_2 = aquarium_dict.copy()\n",
                "print(aquarium_dict_2)\n",
                "\n",
                "# Real copy 3:\n",
                "aquarium_dict_3 = copy.copy(aquarium_dict)\n",
                "print(aquarium_dict_3)"
            ]
        },
        {
            "cell_type": "markdown",
            "metadata": {},
            "source": [
                "<details><summary>\n",
                "Click here for the solution.\n",
                "    </summary>\n",
                "    What worked?\n",
                "\n",
                "- creating a new dictionary with the dict() method:\n",
                "    `dict(aquarium_dict)`\n",
                "\n",
                "- creating a new dictionary with the .copy() Method\n",
                "    `aquarium_dict.copy()`\n",
                "\n",
                "- creating a new dictionary with copy library\n",
                "    `copy.copy(aquarium_dict)`\n",
                "    \n",
                "What **didn't work**?\n",
                "- slicing (lists can be sliced, dictionaries not)\n",
                "    `aquarium_dict[:]`\n",
                "        \n",
                "- list method created a list of the dictionary-keys\n",
                "    `list(aquarium_dict)`\n",
                "    \n",
                "</details>"
            ]
        },
        {
            "cell_type": "markdown",
            "metadata": {},
            "source": [
                "Answer the three question from above!\n",
                "Use code to confirm your opinion.\n",
                "\n",
                "1. check the id of `aquarium_dict` and your created copy!\n",
                "    --> will it be the same?\n",
                "\n",
                "2. what will happen to `aquarium_dict` if you change the entry of `blackbox` in your copy to `\"Party!!!\"`? \n",
                "\n",
                "3. what will happen to `aquarium_dict_copy` if you append the `\"Rainbow fish\"` to the list of fishes in the original `aquarium_dict`?"
            ]
        },
        {
            "cell_type": "code",
            "execution_count": 8,
            "metadata": {},
            "outputs": [
                {
                    "name": "stdout",
                    "output_type": "stream",
                    "text": [
                        "False\n",
                        "False\n",
                        "False\n",
                        "{'fishes': ['big fish', 'small fish', 'second big fish'], 'plants': None, 'black box': 'Party!!!'}\n",
                        "{'fishes': ['big fish', 'small fish', 'second big fish'], 'plants': None, 'black box': 1}\n",
                        "{'fishes': ['big fish', 'small fish', 'second big fish', 'Rainbow fish'], 'plants': None, 'black box': 1}\n"
                    ]
                }
            ],
            "source": [
                "# 1.) Same ID?\n",
                "print(id(aquarium_dict) == id(aquarium_dict_1))  # False\n",
                "print(id(aquarium_dict) == id(aquarium_dict_2))  # False\n",
                "print(id(aquarium_dict) == id(aquarium_dict_3))  # False\n",
                "\n",
                "# 2.) Change entry of 'blackbox' in shallow copy to 'Party!!!'\n",
                "aquarium_dict_1['black box'] = 'Party!!!'  \n",
                "print(aquarium_dict_1)  # Only shallow copy was changed.\n",
                "print(aquarium_dict)\n",
                "\n",
                "# 3.) Append 'Rainbow fish' to list of fishes in original:\n",
                "aquarium_dict['fishes'].append('Rainbow fish')\n",
                "print(aquarium_dict)  # 'Rainbow fish' was appended in all dicts --> shallow copies.\n"
            ]
        },
        {
            "cell_type": "markdown",
            "metadata": {},
            "source": [
                "<details><summary>\n",
                "Click here for the solution of all three questions.\n",
                "    </summary>\n",
                "1. No it's not the same! These are real copies: a new dict object was created:\n",
                "\n",
                "`aquarium_dict_shallow_copy = dict(aquarium_dict)`\n",
                "\n",
                "`id(aquarium_dict) == id(aquarium_dict_shallow_copy)`\n",
                "\n",
                "2.\"black box\" will be only changed in the copy.\n",
                "\n",
                "`aquarium_dict_shallow_copy['black box'] = \"Party!!!\"`\n",
                "\n",
                "`print(aquarium_dict_shallow_copy)`\n",
                "\n",
                "`print(aquarium_dict)`\n",
                "\n",
                "3.the value to the key \"fishes\" is a mutalbe list, which is then a nested object. Content of nested objects are shared between original and copies.\n",
                "\n",
                "`aquarium_dict['fishes'].append('Rainbow fish')`\n",
                "\n",
                "`print(aquarium_dict_shallow_copy)`\n",
                "\n",
                "`print(aquarium_dict)`\n",
                "\n",
                "</details>"
            ]
        },
        {
            "cell_type": "markdown",
            "metadata": {},
            "source": [
                "## Exercise 3: Can you copy dictionaries as deep copies?\n",
                "\n",
                "We will start again with our typical aquarium_dict.\n",
                "\n",
                "Create a deep copy of the dictionary.\n",
                "\n",
                "What will be the solution to the three questions?"
            ]
        },
        {
            "cell_type": "code",
            "execution_count": 9,
            "metadata": {},
            "outputs": [],
            "source": [
                "aquarium_dict = {\n",
                "    'fishes': ['big fish', 'small fish', 'second big fish'],\n",
                "    'plants': None,\n",
                "    'black box': 1\n",
                "}"
            ]
        },
        {
            "cell_type": "code",
            "execution_count": 10,
            "metadata": {},
            "outputs": [
                {
                    "name": "stdout",
                    "output_type": "stream",
                    "text": [
                        "False\n",
                        "Aufgabe2\n",
                        "{'fishes': ['big fish', 'small fish', 'second big fish'], 'plants': None, 'black box': 'Party!!!'}\n",
                        "{'fishes': ['big fish', 'small fish', 'second big fish'], 'plants': None, 'black box': 1}\n",
                        "Aufgabe3\n",
                        "{'fishes': ['big fish', 'small fish', 'second big fish'], 'plants': None, 'black box': 'Party!!!'}\n",
                        "{'fishes': ['big fish', 'small fish', 'second big fish', 'Rainbow fish'], 'plants': None, 'black box': 1}\n"
                    ]
                }
            ],
            "source": [
                "# 1.)\n",
                "aquarium_deep_copy = copy.deepcopy(aquarium_dict)\n",
                "print(id(aquarium_deep_copy) == id(aquarium_dict))  # False\n",
                "\n",
                "# 2.) \n",
                "aquarium_deep_copy['black box'] = 'Party!!!'\n",
                "print('Aufgabe2')  \n",
                "print(aquarium_deep_copy)  # Only deepcopy was changed.\n",
                "print(aquarium_dict)\n",
                "\n",
                "# 3.) \n",
                "aquarium_dict['fishes'].append('Rainbow fish')\n",
                "print('Aufgabe3')\n",
                "print(aquarium_deep_copy)  # Only deepcopy was changed!\n",
                "print(aquarium_dict)\n",
                "\n"
            ]
        },
        {
            "cell_type": "markdown",
            "metadata": {},
            "source": [
                "<details><summary>\n",
                "Click here for the solution of all three questions.\n",
                "    </summary>\n",
                "1. No it's not the same! These are real copies: a new dict object was created.\n",
                "\n",
                "`aquarium_dict_deep_copy = copy.deepcopy(aquarium_dict)`\n",
                "\n",
                "`id(aquarium_dict) == id(aquarium_dict_deep_copy)`\n",
                "\n",
                "2.\"black box\" will be only changed in the copy.\n",
                "\n",
                "`aquarium_dict_deep_copy['black box'] = \"Party!!!\"`\n",
                "\n",
                "`print(aquarium_dict_deep_copy)`\n",
                "\n",
                "`print(aquarium_dict)`\n",
                "\n",
                "3.the value to the key \"fishes\" is a mutalbe list, which is then a nested object. Content of nested objects are not shared between original and deep copies.\n",
                "\n",
                "`aquarium_dict['fishes'].append('Rainbow fish')`\n",
                "\n",
                "`print(aquarium_dict_deep_copy)`\n",
                "\n",
                "`print(aquarium_dict)`\n",
                "\n",
                "</details>"
            ]
        },
        {
            "cell_type": "markdown",
            "metadata": {},
            "source": [
                "## Extra\n",
                "\n",
                "Some of you might use Pandas DataFrames regularly.\n",
                "\n",
                "Of course you might also want to create some copies of DataFrames as well.\n",
                "\n",
                "We imported pandas already. That's why we can start directly with trying some ways to copy DataFrames...\n",
                "\n",
                "To make this concept a bit clearer. We start with our data as a **nested list**. Each nested list will be a row in our DataFrame.\n",
                "\n",
                "The column names will be explained when creating the DataFrame:\n",
                "The DataFrame is concered of the status if fish got food and if it is ill.\n",
                "\n"
            ]
        },
        {
            "cell_type": "code",
            "execution_count": 11,
            "metadata": {},
            "outputs": [],
            "source": [
                "list_of_lists = [['big fish', True, False], \n",
                "                 ['small fish', False, True], \n",
                "                 ['second big fish', False, True]]"
            ]
        },
        {
            "cell_type": "code",
            "execution_count": 33,
            "metadata": {},
            "outputs": [],
            "source": [
                "aquarium_dataframe = pd.DataFrame(data= list_of_lists, columns = ['fishes', 'got_food', 'is_ill'])"
            ]
        },
        {
            "cell_type": "code",
            "execution_count": 13,
            "metadata": {},
            "outputs": [
                {
                    "data": {
                        "text/html": [
                            "<div>\n",
                            "<style scoped>\n",
                            "    .dataframe tbody tr th:only-of-type {\n",
                            "        vertical-align: middle;\n",
                            "    }\n",
                            "\n",
                            "    .dataframe tbody tr th {\n",
                            "        vertical-align: top;\n",
                            "    }\n",
                            "\n",
                            "    .dataframe thead th {\n",
                            "        text-align: right;\n",
                            "    }\n",
                            "</style>\n",
                            "<table border=\"1\" class=\"dataframe\">\n",
                            "  <thead>\n",
                            "    <tr style=\"text-align: right;\">\n",
                            "      <th></th>\n",
                            "      <th>fishes</th>\n",
                            "      <th>got_food</th>\n",
                            "      <th>is_ill</th>\n",
                            "    </tr>\n",
                            "  </thead>\n",
                            "  <tbody>\n",
                            "    <tr>\n",
                            "      <th>0</th>\n",
                            "      <td>big fish</td>\n",
                            "      <td>True</td>\n",
                            "      <td>False</td>\n",
                            "    </tr>\n",
                            "    <tr>\n",
                            "      <th>1</th>\n",
                            "      <td>small fish</td>\n",
                            "      <td>False</td>\n",
                            "      <td>True</td>\n",
                            "    </tr>\n",
                            "    <tr>\n",
                            "      <th>2</th>\n",
                            "      <td>second big fish</td>\n",
                            "      <td>False</td>\n",
                            "      <td>True</td>\n",
                            "    </tr>\n",
                            "  </tbody>\n",
                            "</table>\n",
                            "</div>"
                        ],
                        "text/plain": [
                            "            fishes  got_food  is_ill\n",
                            "0         big fish      True   False\n",
                            "1       small fish     False    True\n",
                            "2  second big fish     False    True"
                        ]
                    },
                    "execution_count": 13,
                    "metadata": {},
                    "output_type": "execute_result"
                }
            ],
            "source": [
                "aquarium_dataframe"
            ]
        },
        {
            "cell_type": "markdown",
            "metadata": {},
            "source": [
                "Let's create a copy!\n",
                "**Attention!** This will use the [**Pandas Method .copy()**](https://pandas.pydata.org/pandas-docs/stable/reference/api/pandas.DataFrame.copy.html)\n",
                "\n",
                "By default the attribute `deep=True`. \n",
                "The documentation states:\n",
                "\n",
                "When deep=True (default), a new object will be created with a copy of the calling object’s data and indices. Modifications to the data or indices of the copy will not be reflected in the original object (see notes below).\n",
                "\n",
                "When deep=False, a new object will be created without copying the calling object’s data or index (only references to the data and index are copied). Any changes to the data of the original will be reflected in the shallow copy (and vice versa).\n",
                "\n",
                "Ok. We will stay true to this notebook and we will start with a \"shallow copy\"."
            ]
        },
        {
            "cell_type": "code",
            "execution_count": 14,
            "metadata": {},
            "outputs": [],
            "source": [
                "aquarium_dataframe_shallowcopy = aquarium_dataframe.copy(deep=False)"
            ]
        },
        {
            "cell_type": "markdown",
            "metadata": {},
            "source": [
                "It's a new object:"
            ]
        },
        {
            "cell_type": "code",
            "execution_count": 15,
            "metadata": {},
            "outputs": [
                {
                    "data": {
                        "text/plain": [
                            "False"
                        ]
                    },
                    "execution_count": 15,
                    "metadata": {},
                    "output_type": "execute_result"
                }
            ],
            "source": [
                "id(aquarium_dataframe) == id(aquarium_dataframe_shallowcopy)"
            ]
        },
        {
            "cell_type": "markdown",
            "metadata": {},
            "source": [
                "But: Any changes to the data of the original will be reflected in the shallow copy (and vice versa)."
            ]
        },
        {
            "cell_type": "code",
            "execution_count": 16,
            "metadata": {},
            "outputs": [],
            "source": [
                "aquarium_dataframe_shallowcopy.at[0, 'fishes'] = 'dead fish'"
            ]
        },
        {
            "cell_type": "code",
            "execution_count": 17,
            "metadata": {},
            "outputs": [
                {
                    "data": {
                        "text/html": [
                            "<div>\n",
                            "<style scoped>\n",
                            "    .dataframe tbody tr th:only-of-type {\n",
                            "        vertical-align: middle;\n",
                            "    }\n",
                            "\n",
                            "    .dataframe tbody tr th {\n",
                            "        vertical-align: top;\n",
                            "    }\n",
                            "\n",
                            "    .dataframe thead th {\n",
                            "        text-align: right;\n",
                            "    }\n",
                            "</style>\n",
                            "<table border=\"1\" class=\"dataframe\">\n",
                            "  <thead>\n",
                            "    <tr style=\"text-align: right;\">\n",
                            "      <th></th>\n",
                            "      <th>fishes</th>\n",
                            "      <th>got_food</th>\n",
                            "      <th>is_ill</th>\n",
                            "    </tr>\n",
                            "  </thead>\n",
                            "  <tbody>\n",
                            "    <tr>\n",
                            "      <th>0</th>\n",
                            "      <td>dead fish</td>\n",
                            "      <td>True</td>\n",
                            "      <td>False</td>\n",
                            "    </tr>\n",
                            "    <tr>\n",
                            "      <th>1</th>\n",
                            "      <td>small fish</td>\n",
                            "      <td>False</td>\n",
                            "      <td>True</td>\n",
                            "    </tr>\n",
                            "    <tr>\n",
                            "      <th>2</th>\n",
                            "      <td>second big fish</td>\n",
                            "      <td>False</td>\n",
                            "      <td>True</td>\n",
                            "    </tr>\n",
                            "  </tbody>\n",
                            "</table>\n",
                            "</div>"
                        ],
                        "text/plain": [
                            "            fishes  got_food  is_ill\n",
                            "0        dead fish      True   False\n",
                            "1       small fish     False    True\n",
                            "2  second big fish     False    True"
                        ]
                    },
                    "execution_count": 17,
                    "metadata": {},
                    "output_type": "execute_result"
                }
            ],
            "source": [
                "aquarium_dataframe_shallowcopy"
            ]
        },
        {
            "cell_type": "code",
            "execution_count": 18,
            "metadata": {},
            "outputs": [
                {
                    "data": {
                        "text/html": [
                            "<div>\n",
                            "<style scoped>\n",
                            "    .dataframe tbody tr th:only-of-type {\n",
                            "        vertical-align: middle;\n",
                            "    }\n",
                            "\n",
                            "    .dataframe tbody tr th {\n",
                            "        vertical-align: top;\n",
                            "    }\n",
                            "\n",
                            "    .dataframe thead th {\n",
                            "        text-align: right;\n",
                            "    }\n",
                            "</style>\n",
                            "<table border=\"1\" class=\"dataframe\">\n",
                            "  <thead>\n",
                            "    <tr style=\"text-align: right;\">\n",
                            "      <th></th>\n",
                            "      <th>fishes</th>\n",
                            "      <th>got_food</th>\n",
                            "      <th>is_ill</th>\n",
                            "    </tr>\n",
                            "  </thead>\n",
                            "  <tbody>\n",
                            "    <tr>\n",
                            "      <th>0</th>\n",
                            "      <td>dead fish</td>\n",
                            "      <td>True</td>\n",
                            "      <td>False</td>\n",
                            "    </tr>\n",
                            "    <tr>\n",
                            "      <th>1</th>\n",
                            "      <td>small fish</td>\n",
                            "      <td>False</td>\n",
                            "      <td>True</td>\n",
                            "    </tr>\n",
                            "    <tr>\n",
                            "      <th>2</th>\n",
                            "      <td>second big fish</td>\n",
                            "      <td>False</td>\n",
                            "      <td>True</td>\n",
                            "    </tr>\n",
                            "  </tbody>\n",
                            "</table>\n",
                            "</div>"
                        ],
                        "text/plain": [
                            "            fishes  got_food  is_ill\n",
                            "0        dead fish      True   False\n",
                            "1       small fish     False    True\n",
                            "2  second big fish     False    True"
                        ]
                    },
                    "execution_count": 18,
                    "metadata": {},
                    "output_type": "execute_result"
                }
            ],
            "source": [
                "aquarium_dataframe"
            ]
        },
        {
            "cell_type": "markdown",
            "metadata": {},
            "source": [
                "Ok. Now to the \"deep copy\"."
            ]
        },
        {
            "cell_type": "code",
            "execution_count": 19,
            "metadata": {},
            "outputs": [],
            "source": [
                "list_of_lists = [['big fish', True, False], \n",
                "                 [['small fish mama','small fish papa'], False, True], \n",
                "                 ['second big fish', False, True]]"
            ]
        },
        {
            "cell_type": "code",
            "execution_count": 20,
            "metadata": {},
            "outputs": [],
            "source": [
                "aquarium_dataframe = pd.DataFrame(data= list_of_lists, columns = ['fishes', 'got_food', 'is_ill'])"
            ]
        },
        {
            "cell_type": "code",
            "execution_count": 21,
            "metadata": {},
            "outputs": [],
            "source": [
                "# per default \"deep=True\"\n",
                "aquarium_dataframe_copy = aquarium_dataframe.copy()"
            ]
        },
        {
            "cell_type": "markdown",
            "metadata": {},
            "source": [
                "It's a new object:"
            ]
        },
        {
            "cell_type": "code",
            "execution_count": 22,
            "metadata": {},
            "outputs": [
                {
                    "data": {
                        "text/plain": [
                            "False"
                        ]
                    },
                    "execution_count": 22,
                    "metadata": {},
                    "output_type": "execute_result"
                }
            ],
            "source": [
                "id(aquarium_dataframe) == id(aquarium_dataframe_shallowcopy)"
            ]
        },
        {
            "cell_type": "markdown",
            "metadata": {},
            "source": [
                "And: Modifications to the data or indices of the copy will not be reflected in the original object."
            ]
        },
        {
            "cell_type": "code",
            "execution_count": 23,
            "metadata": {},
            "outputs": [],
            "source": [
                "aquarium_dataframe_copy.at[0, 'fishes'] = 'dead fish'"
            ]
        },
        {
            "cell_type": "code",
            "execution_count": 24,
            "metadata": {},
            "outputs": [
                {
                    "data": {
                        "text/html": [
                            "<div>\n",
                            "<style scoped>\n",
                            "    .dataframe tbody tr th:only-of-type {\n",
                            "        vertical-align: middle;\n",
                            "    }\n",
                            "\n",
                            "    .dataframe tbody tr th {\n",
                            "        vertical-align: top;\n",
                            "    }\n",
                            "\n",
                            "    .dataframe thead th {\n",
                            "        text-align: right;\n",
                            "    }\n",
                            "</style>\n",
                            "<table border=\"1\" class=\"dataframe\">\n",
                            "  <thead>\n",
                            "    <tr style=\"text-align: right;\">\n",
                            "      <th></th>\n",
                            "      <th>fishes</th>\n",
                            "      <th>got_food</th>\n",
                            "      <th>is_ill</th>\n",
                            "    </tr>\n",
                            "  </thead>\n",
                            "  <tbody>\n",
                            "    <tr>\n",
                            "      <th>0</th>\n",
                            "      <td>dead fish</td>\n",
                            "      <td>True</td>\n",
                            "      <td>False</td>\n",
                            "    </tr>\n",
                            "    <tr>\n",
                            "      <th>1</th>\n",
                            "      <td>[small fish mama, small fish papa]</td>\n",
                            "      <td>False</td>\n",
                            "      <td>True</td>\n",
                            "    </tr>\n",
                            "    <tr>\n",
                            "      <th>2</th>\n",
                            "      <td>second big fish</td>\n",
                            "      <td>False</td>\n",
                            "      <td>True</td>\n",
                            "    </tr>\n",
                            "  </tbody>\n",
                            "</table>\n",
                            "</div>"
                        ],
                        "text/plain": [
                            "                               fishes  got_food  is_ill\n",
                            "0                           dead fish      True   False\n",
                            "1  [small fish mama, small fish papa]     False    True\n",
                            "2                     second big fish     False    True"
                        ]
                    },
                    "execution_count": 24,
                    "metadata": {},
                    "output_type": "execute_result"
                }
            ],
            "source": [
                "aquarium_dataframe_copy"
            ]
        },
        {
            "cell_type": "code",
            "execution_count": 25,
            "metadata": {},
            "outputs": [
                {
                    "data": {
                        "text/html": [
                            "<div>\n",
                            "<style scoped>\n",
                            "    .dataframe tbody tr th:only-of-type {\n",
                            "        vertical-align: middle;\n",
                            "    }\n",
                            "\n",
                            "    .dataframe tbody tr th {\n",
                            "        vertical-align: top;\n",
                            "    }\n",
                            "\n",
                            "    .dataframe thead th {\n",
                            "        text-align: right;\n",
                            "    }\n",
                            "</style>\n",
                            "<table border=\"1\" class=\"dataframe\">\n",
                            "  <thead>\n",
                            "    <tr style=\"text-align: right;\">\n",
                            "      <th></th>\n",
                            "      <th>fishes</th>\n",
                            "      <th>got_food</th>\n",
                            "      <th>is_ill</th>\n",
                            "    </tr>\n",
                            "  </thead>\n",
                            "  <tbody>\n",
                            "    <tr>\n",
                            "      <th>0</th>\n",
                            "      <td>big fish</td>\n",
                            "      <td>True</td>\n",
                            "      <td>False</td>\n",
                            "    </tr>\n",
                            "    <tr>\n",
                            "      <th>1</th>\n",
                            "      <td>[small fish mama, small fish papa]</td>\n",
                            "      <td>False</td>\n",
                            "      <td>True</td>\n",
                            "    </tr>\n",
                            "    <tr>\n",
                            "      <th>2</th>\n",
                            "      <td>second big fish</td>\n",
                            "      <td>False</td>\n",
                            "      <td>True</td>\n",
                            "    </tr>\n",
                            "  </tbody>\n",
                            "</table>\n",
                            "</div>"
                        ],
                        "text/plain": [
                            "                               fishes  got_food  is_ill\n",
                            "0                            big fish      True   False\n",
                            "1  [small fish mama, small fish papa]     False    True\n",
                            "2                     second big fish     False    True"
                        ]
                    },
                    "execution_count": 25,
                    "metadata": {},
                    "output_type": "execute_result"
                }
            ],
            "source": [
                "aquarium_dataframe"
            ]
        },
        {
            "cell_type": "markdown",
            "metadata": {},
            "source": [
                "**But** how deep is this deep copy?"
            ]
        },
        {
            "cell_type": "code",
            "execution_count": 26,
            "metadata": {},
            "outputs": [],
            "source": [
                "aquarium_dataframe['fishes'][1][1] = 'small fish baby'"
            ]
        },
        {
            "cell_type": "code",
            "execution_count": 27,
            "metadata": {},
            "outputs": [
                {
                    "data": {
                        "text/html": [
                            "<div>\n",
                            "<style scoped>\n",
                            "    .dataframe tbody tr th:only-of-type {\n",
                            "        vertical-align: middle;\n",
                            "    }\n",
                            "\n",
                            "    .dataframe tbody tr th {\n",
                            "        vertical-align: top;\n",
                            "    }\n",
                            "\n",
                            "    .dataframe thead th {\n",
                            "        text-align: right;\n",
                            "    }\n",
                            "</style>\n",
                            "<table border=\"1\" class=\"dataframe\">\n",
                            "  <thead>\n",
                            "    <tr style=\"text-align: right;\">\n",
                            "      <th></th>\n",
                            "      <th>fishes</th>\n",
                            "      <th>got_food</th>\n",
                            "      <th>is_ill</th>\n",
                            "    </tr>\n",
                            "  </thead>\n",
                            "  <tbody>\n",
                            "    <tr>\n",
                            "      <th>0</th>\n",
                            "      <td>big fish</td>\n",
                            "      <td>True</td>\n",
                            "      <td>False</td>\n",
                            "    </tr>\n",
                            "    <tr>\n",
                            "      <th>1</th>\n",
                            "      <td>[small fish mama, small fish baby]</td>\n",
                            "      <td>False</td>\n",
                            "      <td>True</td>\n",
                            "    </tr>\n",
                            "    <tr>\n",
                            "      <th>2</th>\n",
                            "      <td>second big fish</td>\n",
                            "      <td>False</td>\n",
                            "      <td>True</td>\n",
                            "    </tr>\n",
                            "  </tbody>\n",
                            "</table>\n",
                            "</div>"
                        ],
                        "text/plain": [
                            "                               fishes  got_food  is_ill\n",
                            "0                            big fish      True   False\n",
                            "1  [small fish mama, small fish baby]     False    True\n",
                            "2                     second big fish     False    True"
                        ]
                    },
                    "execution_count": 27,
                    "metadata": {},
                    "output_type": "execute_result"
                }
            ],
            "source": [
                "aquarium_dataframe\n"
            ]
        },
        {
            "cell_type": "code",
            "execution_count": 28,
            "metadata": {},
            "outputs": [
                {
                    "data": {
                        "text/html": [
                            "<div>\n",
                            "<style scoped>\n",
                            "    .dataframe tbody tr th:only-of-type {\n",
                            "        vertical-align: middle;\n",
                            "    }\n",
                            "\n",
                            "    .dataframe tbody tr th {\n",
                            "        vertical-align: top;\n",
                            "    }\n",
                            "\n",
                            "    .dataframe thead th {\n",
                            "        text-align: right;\n",
                            "    }\n",
                            "</style>\n",
                            "<table border=\"1\" class=\"dataframe\">\n",
                            "  <thead>\n",
                            "    <tr style=\"text-align: right;\">\n",
                            "      <th></th>\n",
                            "      <th>fishes</th>\n",
                            "      <th>got_food</th>\n",
                            "      <th>is_ill</th>\n",
                            "    </tr>\n",
                            "  </thead>\n",
                            "  <tbody>\n",
                            "    <tr>\n",
                            "      <th>0</th>\n",
                            "      <td>dead fish</td>\n",
                            "      <td>True</td>\n",
                            "      <td>False</td>\n",
                            "    </tr>\n",
                            "    <tr>\n",
                            "      <th>1</th>\n",
                            "      <td>[small fish mama, small fish baby]</td>\n",
                            "      <td>False</td>\n",
                            "      <td>True</td>\n",
                            "    </tr>\n",
                            "    <tr>\n",
                            "      <th>2</th>\n",
                            "      <td>second big fish</td>\n",
                            "      <td>False</td>\n",
                            "      <td>True</td>\n",
                            "    </tr>\n",
                            "  </tbody>\n",
                            "</table>\n",
                            "</div>"
                        ],
                        "text/plain": [
                            "                               fishes  got_food  is_ill\n",
                            "0                           dead fish      True   False\n",
                            "1  [small fish mama, small fish baby]     False    True\n",
                            "2                     second big fish     False    True"
                        ]
                    },
                    "execution_count": 28,
                    "metadata": {},
                    "output_type": "execute_result"
                }
            ],
            "source": [
                "aquarium_dataframe_copy"
            ]
        },
        {
            "cell_type": "markdown",
            "metadata": {},
            "source": [
                "Note that when copying an object containing Python objects, a deep copy will copy the data, but will not do so recursively. Updating a nested data object will be reflected in the deep copy."
            ]
        },
        {
            "cell_type": "markdown",
            "metadata": {},
            "source": [
                "This might not happen often, that you really have a list etc. as an object in your DataFrame. But if it does... there is again a way to create a real deep copy.\n",
                "\n",
                "To take a truly deep copy of a DataFrame containing a list(or other python objects), so that it will be independent – you can use one of the methods below.\n",
                "\n",
                "Create a new DataFrame with a deepcopy of the values in the DataFrame."
            ]
        },
        {
            "cell_type": "code",
            "execution_count": 29,
            "metadata": {},
            "outputs": [],
            "source": [
                "aquarium_dataframe_deep_copy = pd.DataFrame(columns = aquarium_dataframe.columns, data = copy.deepcopy(aquarium_dataframe.values))\n",
                "\n",
                "# Hier wird die Modulfunktion copy.deepcopy() - als dritte Möglichkeit eine deep copy zu erstellen, benutzt."
            ]
        },
        {
            "cell_type": "code",
            "execution_count": 30,
            "metadata": {},
            "outputs": [],
            "source": [
                "aquarium_dataframe_deep_copy['fishes'][1][1] = 'small fish papa again'"
            ]
        },
        {
            "cell_type": "code",
            "execution_count": 31,
            "metadata": {},
            "outputs": [
                {
                    "data": {
                        "text/html": [
                            "<div>\n",
                            "<style scoped>\n",
                            "    .dataframe tbody tr th:only-of-type {\n",
                            "        vertical-align: middle;\n",
                            "    }\n",
                            "\n",
                            "    .dataframe tbody tr th {\n",
                            "        vertical-align: top;\n",
                            "    }\n",
                            "\n",
                            "    .dataframe thead th {\n",
                            "        text-align: right;\n",
                            "    }\n",
                            "</style>\n",
                            "<table border=\"1\" class=\"dataframe\">\n",
                            "  <thead>\n",
                            "    <tr style=\"text-align: right;\">\n",
                            "      <th></th>\n",
                            "      <th>fishes</th>\n",
                            "      <th>got_food</th>\n",
                            "      <th>is_ill</th>\n",
                            "    </tr>\n",
                            "  </thead>\n",
                            "  <tbody>\n",
                            "    <tr>\n",
                            "      <th>0</th>\n",
                            "      <td>big fish</td>\n",
                            "      <td>True</td>\n",
                            "      <td>False</td>\n",
                            "    </tr>\n",
                            "    <tr>\n",
                            "      <th>1</th>\n",
                            "      <td>[small fish mama, small fish baby]</td>\n",
                            "      <td>False</td>\n",
                            "      <td>True</td>\n",
                            "    </tr>\n",
                            "    <tr>\n",
                            "      <th>2</th>\n",
                            "      <td>second big fish</td>\n",
                            "      <td>False</td>\n",
                            "      <td>True</td>\n",
                            "    </tr>\n",
                            "  </tbody>\n",
                            "</table>\n",
                            "</div>"
                        ],
                        "text/plain": [
                            "                               fishes  got_food  is_ill\n",
                            "0                            big fish      True   False\n",
                            "1  [small fish mama, small fish baby]     False    True\n",
                            "2                     second big fish     False    True"
                        ]
                    },
                    "execution_count": 31,
                    "metadata": {},
                    "output_type": "execute_result"
                }
            ],
            "source": [
                "aquarium_dataframe"
            ]
        },
        {
            "cell_type": "code",
            "execution_count": 32,
            "metadata": {},
            "outputs": [
                {
                    "data": {
                        "text/html": [
                            "<div>\n",
                            "<style scoped>\n",
                            "    .dataframe tbody tr th:only-of-type {\n",
                            "        vertical-align: middle;\n",
                            "    }\n",
                            "\n",
                            "    .dataframe tbody tr th {\n",
                            "        vertical-align: top;\n",
                            "    }\n",
                            "\n",
                            "    .dataframe thead th {\n",
                            "        text-align: right;\n",
                            "    }\n",
                            "</style>\n",
                            "<table border=\"1\" class=\"dataframe\">\n",
                            "  <thead>\n",
                            "    <tr style=\"text-align: right;\">\n",
                            "      <th></th>\n",
                            "      <th>fishes</th>\n",
                            "      <th>got_food</th>\n",
                            "      <th>is_ill</th>\n",
                            "    </tr>\n",
                            "  </thead>\n",
                            "  <tbody>\n",
                            "    <tr>\n",
                            "      <th>0</th>\n",
                            "      <td>big fish</td>\n",
                            "      <td>True</td>\n",
                            "      <td>False</td>\n",
                            "    </tr>\n",
                            "    <tr>\n",
                            "      <th>1</th>\n",
                            "      <td>[small fish mama, small fish papa again]</td>\n",
                            "      <td>False</td>\n",
                            "      <td>True</td>\n",
                            "    </tr>\n",
                            "    <tr>\n",
                            "      <th>2</th>\n",
                            "      <td>second big fish</td>\n",
                            "      <td>False</td>\n",
                            "      <td>True</td>\n",
                            "    </tr>\n",
                            "  </tbody>\n",
                            "</table>\n",
                            "</div>"
                        ],
                        "text/plain": [
                            "                                     fishes got_food is_ill\n",
                            "0                                  big fish     True  False\n",
                            "1  [small fish mama, small fish papa again]    False   True\n",
                            "2                           second big fish    False   True"
                        ]
                    },
                    "execution_count": 32,
                    "metadata": {},
                    "output_type": "execute_result"
                }
            ],
            "source": [
                "aquarium_dataframe_deep_copy"
            ]
        },
        {
            "cell_type": "markdown",
            "metadata": {},
            "source": [
                "Complicated! But now you have seen also all three ways to create copies of DataFrames.\n",
                "And it is always good to have an intuition what could have went wrong, when your DataFrames don't look like you expected them to look like."
            ]
        }
    ],
    "metadata": {
        "interpreter": {
            "hash": "20670382bdd763826afecbaf496254aea9344a31cf0ebf49b772d3ebe854ad49"
        },
        "kernelspec": {
            "display_name": "Python 3.8.5 64-bit ('.venv': venv)",
            "name": "python3"
        },
        "language_info": {
            "codemirror_mode": {
                "name": "ipython",
                "version": 3
            },
            "file_extension": ".py",
            "mimetype": "text/x-python",
            "name": "python",
            "nbconvert_exporter": "python",
            "pygments_lexer": "ipython3",
            "version": "3.9.8"
        },
        "orig_nbformat": 4
    },
    "nbformat": 4,
    "nbformat_minor": 2
}
